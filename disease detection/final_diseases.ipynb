{
 "cells": [
  {
   "cell_type": "code",
   "execution_count": 43,
   "metadata": {
    "scrolled": true
   },
   "outputs": [],
   "source": [
    "import numpy as np\n",
    "import pickle\n",
    "import cv2\n",
    "from os import listdir\n",
    "from sklearn.preprocessing import LabelBinarizer\n",
    "from keras.models import Sequential\n",
    "from keras.layers import BatchNormalization\n",
    "from keras.layers.convolutional import Conv2D\n",
    "from keras.layers.convolutional import MaxPooling2D\n",
    "from keras.layers.core import Activation, Flatten, Dropout, Dense\n",
    "from keras import backend as K\n",
    "from keras.preprocessing.image import ImageDataGenerator\n",
    "from tensorflow.keras.optimizers import Adam\n",
    "from keras.preprocessing import image\n",
    "from keras.preprocessing.image import img_to_array\n",
    "from sklearn.preprocessing import MultiLabelBinarizer\n",
    "from sklearn.model_selection import train_test_split\n",
    "import matplotlib.pyplot as plt"
   ]
  },
  {
   "cell_type": "code",
   "execution_count": 44,
   "metadata": {},
   "outputs": [],
   "source": [
    "EPOCHS = 35\n",
    "INIT_LR = 1e-3\n",
    "BS = 32\n",
    "default_image_size = tuple((100, 100))\n",
    "image_size = 0\n",
    "directory_root = r'C:\\Users\\80965\\Downloads\\disease_dataset'\n",
    "width=100\n",
    "height=100\n",
    "depth=3"
   ]
  },
  {
   "cell_type": "code",
   "execution_count": 45,
   "metadata": {},
   "outputs": [
    {
     "data": {
      "text/plain": [
       "True"
      ]
     },
     "execution_count": 45,
     "metadata": {},
     "output_type": "execute_result"
    }
   ],
   "source": [
    "import os\n",
    "\n",
    "os.path.exists(directory_root)"
   ]
  },
  {
   "cell_type": "code",
   "execution_count": 46,
   "metadata": {},
   "outputs": [],
   "source": [
    "def convert_image_to_array(image_dir):\n",
    "    try:\n",
    "        image = cv2.imread(image_dir)\n",
    "        if image is not None :\n",
    "            image = cv2.resize(image, default_image_size)   \n",
    "            return img_to_array(image)\n",
    "        else :\n",
    "            return np.array([])\n",
    "    except Exception as e:\n",
    "        print(f\"Error : {e}\")\n",
    "        return None"
   ]
  },
  {
   "cell_type": "code",
   "execution_count": 47,
   "metadata": {},
   "outputs": [
    {
     "data": {
      "text/plain": [
       "'C:\\\\Users\\\\80965\\\\Downloads\\\\disease_dataset'"
      ]
     },
     "execution_count": 47,
     "metadata": {},
     "output_type": "execute_result"
    }
   ],
   "source": [
    "directory_root"
   ]
  },
  {
   "cell_type": "code",
   "execution_count": 48,
   "metadata": {},
   "outputs": [
    {
     "name": "stdout",
     "output_type": "stream",
     "text": [
      "[INFO] Loading images ...\n",
      "[INFO] Processing Pepper__bell___Bacterial_spot ...\n",
      "[INFO] Processing Pepper__bell___healthy ...\n",
      "[INFO] Processing Potato___Early_blight ...\n",
      "[INFO] Processing Potato___healthy ...\n",
      "[INFO] Processing Potato___Late_blight ...\n",
      "[INFO] Processing Tomato_Bacterial_spot ...\n",
      "[INFO] Processing Tomato_Early_blight ...\n",
      "[INFO] Processing Tomato_healthy ...\n",
      "[INFO] Processing Tomato_Late_blight ...\n",
      "[INFO] Processing Tomato_Leaf_Mold ...\n",
      "[INFO] Processing Tomato_Septoria_leaf_spot ...\n",
      "[INFO] Processing Tomato_Spider_mites_Two_spotted_spider_mite ...\n",
      "[INFO] Processing Tomato__Target_Spot ...\n",
      "[INFO] Processing Tomato__Tomato_mosaic_virus ...\n",
      "[INFO] Processing Tomato__Tomato_YellowLeaf__Curl_Virus ...\n",
      "[INFO] Image loading completed\n"
     ]
    }
   ],
   "source": [
    "image_list, label_list = [], []\n",
    "try:\n",
    "    print(\"[INFO] Loading images ...\")\n",
    "    root_dir = listdir(directory_root)\n",
    "    for directory in root_dir :\n",
    "        # remove .DS_Store from list\n",
    "        if directory == \".DS_Store\" :\n",
    "            root_dir.remove(directory)\n",
    "\n",
    "    for plant_folder in root_dir :\n",
    "        plant_disease_folder_list = listdir(f\"{directory_root}/{plant_folder}\")\n",
    "        \n",
    "        for disease_folder in plant_disease_folder_list :\n",
    "            # remove .DS_Store from list\n",
    "            if disease_folder == \".DS_Store\" :\n",
    "                plant_disease_folder_list.remove(disease_folder)\n",
    "\n",
    "        for plant_disease_folder in plant_disease_folder_list:\n",
    "            print(f\"[INFO] Processing {plant_disease_folder} ...\")\n",
    "            plant_disease_image_list = listdir(f\"{directory_root}/{plant_folder}/{plant_disease_folder}/\")\n",
    "                \n",
    "            for single_plant_disease_image in plant_disease_image_list :\n",
    "                if single_plant_disease_image == \".DS_Store\" :\n",
    "                    plant_disease_image_list.remove(single_plant_disease_image)\n",
    "\n",
    "            for image in plant_disease_image_list[:250]:\n",
    "                image_directory = f\"{directory_root}/{plant_folder}/{plant_disease_folder}/{image}\"\n",
    "                if image_directory.endswith(\".jpg\") == True or image_directory.endswith(\".JPG\") == True:\n",
    "                    image_list.append(convert_image_to_array(image_directory))\n",
    "                    label_list.append(plant_disease_folder)\n",
    "    print(\"[INFO] Image loading completed\")  \n",
    "except Exception as e:\n",
    "    print(f\"Error : {e}\")"
   ]
  },
  {
   "cell_type": "code",
   "execution_count": 49,
   "metadata": {},
   "outputs": [],
   "source": [
    "image_size = len(image_list)"
   ]
  },
  {
   "cell_type": "code",
   "execution_count": 50,
   "metadata": {},
   "outputs": [],
   "source": [
    "label_binarizer = LabelBinarizer()\n",
    "image_labels = label_binarizer.fit_transform(label_list)\n",
    "pickle.dump(label_binarizer,open('label_transform2.pkl', 'wb'))\n",
    "n_classes = len(label_binarizer.classes_)"
   ]
  },
  {
   "cell_type": "code",
   "execution_count": 51,
   "metadata": {},
   "outputs": [
    {
     "name": "stdout",
     "output_type": "stream",
     "text": [
      "['Pepper__bell___Bacterial_spot' 'Pepper__bell___healthy'\n",
      " 'Potato___Early_blight' 'Potato___Late_blight' 'Potato___healthy'\n",
      " 'Tomato_Bacterial_spot' 'Tomato_Early_blight' 'Tomato_Late_blight'\n",
      " 'Tomato_Leaf_Mold' 'Tomato_Septoria_leaf_spot'\n",
      " 'Tomato_Spider_mites_Two_spotted_spider_mite' 'Tomato__Target_Spot'\n",
      " 'Tomato__Tomato_YellowLeaf__Curl_Virus' 'Tomato__Tomato_mosaic_virus'\n",
      " 'Tomato_healthy']\n"
     ]
    }
   ],
   "source": [
    "print(label_binarizer.classes_)"
   ]
  },
  {
   "cell_type": "code",
   "execution_count": 52,
   "metadata": {},
   "outputs": [],
   "source": [
    "np_image_list = np.array(image_list, dtype=np.float16) / 225.0"
   ]
  },
  {
   "cell_type": "code",
   "execution_count": 53,
   "metadata": {},
   "outputs": [
    {
     "name": "stdout",
     "output_type": "stream",
     "text": [
      "[INFO] Spliting data to train, test\n"
     ]
    }
   ],
   "source": [
    "print(\"[INFO] Spliting data to train, test\")\n",
    "x_train, x_test, y_train, y_test = train_test_split(np_image_list, image_labels, test_size=0.2, random_state = 42) "
   ]
  },
  {
   "cell_type": "code",
   "execution_count": 54,
   "metadata": {},
   "outputs": [],
   "source": [
    "aug = ImageDataGenerator(\n",
    "    rotation_range=25, width_shift_range=0.1,\n",
    "    height_shift_range=0.1, shear_range=0.2, \n",
    "    zoom_range=0.2,horizontal_flip=True, \n",
    "    fill_mode=\"nearest\")"
   ]
  },
  {
   "cell_type": "code",
   "execution_count": 55,
   "metadata": {},
   "outputs": [],
   "source": [
    "model = Sequential()\n",
    "inputShape = (height, width, depth)\n",
    "chanDim = -1\n",
    "if K.image_data_format() == \"channels_first\":\n",
    "    inputShape = (depth, height, width)\n",
    "    chanDim = 1\n",
    "model.add(Conv2D(32, (3, 3), padding=\"same\",input_shape=inputShape))\n",
    "model.add(Activation(\"relu\"))\n",
    "model.add(BatchNormalization(axis=chanDim))\n",
    "model.add(MaxPooling2D(pool_size=(3, 3)))\n",
    "model.add(Dropout(0.25))\n",
    "model.add(Conv2D(64, (3, 3), padding=\"same\"))\n",
    "model.add(Activation(\"relu\"))\n",
    "model.add(BatchNormalization(axis=chanDim))\n",
    "model.add(Conv2D(64, (3, 3), padding=\"same\"))\n",
    "model.add(Activation(\"relu\"))\n",
    "model.add(BatchNormalization(axis=chanDim))\n",
    "model.add(MaxPooling2D(pool_size=(2, 2)))\n",
    "model.add(Dropout(0.25))\n",
    "model.add(Conv2D(128, (3, 3), padding=\"same\"))\n",
    "model.add(Activation(\"relu\"))\n",
    "model.add(BatchNormalization(axis=chanDim))\n",
    "model.add(Conv2D(128, (3, 3), padding=\"same\"))\n",
    "model.add(Activation(\"relu\"))\n",
    "model.add(BatchNormalization(axis=chanDim))\n",
    "model.add(MaxPooling2D(pool_size=(2, 2)))\n",
    "model.add(Dropout(0.25))\n",
    "model.add(Flatten())\n",
    "model.add(Dense(1024))\n",
    "model.add(Activation(\"relu\"))\n",
    "model.add(BatchNormalization())\n",
    "model.add(Dropout(0.5))\n",
    "model.add(Dense(n_classes))\n",
    "model.add(Activation(\"softmax\"))"
   ]
  },
  {
   "cell_type": "code",
   "execution_count": 56,
   "metadata": {},
   "outputs": [
    {
     "name": "stdout",
     "output_type": "stream",
     "text": [
      "Model: \"sequential_1\"\n",
      "_________________________________________________________________\n",
      " Layer (type)                Output Shape              Param #   \n",
      "=================================================================\n",
      " conv2d_5 (Conv2D)           (None, 100, 100, 32)      896       \n",
      "                                                                 \n",
      " activation_7 (Activation)   (None, 100, 100, 32)      0         \n",
      "                                                                 \n",
      " batch_normalization_6 (Batc  (None, 100, 100, 32)     128       \n",
      " hNormalization)                                                 \n",
      "                                                                 \n",
      " max_pooling2d_3 (MaxPooling  (None, 33, 33, 32)       0         \n",
      " 2D)                                                             \n",
      "                                                                 \n",
      " dropout_4 (Dropout)         (None, 33, 33, 32)        0         \n",
      "                                                                 \n",
      " conv2d_6 (Conv2D)           (None, 33, 33, 64)        18496     \n",
      "                                                                 \n",
      " activation_8 (Activation)   (None, 33, 33, 64)        0         \n",
      "                                                                 \n",
      " batch_normalization_7 (Batc  (None, 33, 33, 64)       256       \n",
      " hNormalization)                                                 \n",
      "                                                                 \n",
      " conv2d_7 (Conv2D)           (None, 33, 33, 64)        36928     \n",
      "                                                                 \n",
      " activation_9 (Activation)   (None, 33, 33, 64)        0         \n",
      "                                                                 \n",
      " batch_normalization_8 (Batc  (None, 33, 33, 64)       256       \n",
      " hNormalization)                                                 \n",
      "                                                                 \n",
      " max_pooling2d_4 (MaxPooling  (None, 16, 16, 64)       0         \n",
      " 2D)                                                             \n",
      "                                                                 \n",
      " dropout_5 (Dropout)         (None, 16, 16, 64)        0         \n",
      "                                                                 \n",
      " conv2d_8 (Conv2D)           (None, 16, 16, 128)       73856     \n",
      "                                                                 \n",
      " activation_10 (Activation)  (None, 16, 16, 128)       0         \n",
      "                                                                 \n",
      " batch_normalization_9 (Batc  (None, 16, 16, 128)      512       \n",
      " hNormalization)                                                 \n",
      "                                                                 \n",
      " conv2d_9 (Conv2D)           (None, 16, 16, 128)       147584    \n",
      "                                                                 \n",
      " activation_11 (Activation)  (None, 16, 16, 128)       0         \n",
      "                                                                 \n",
      " batch_normalization_10 (Bat  (None, 16, 16, 128)      512       \n",
      " chNormalization)                                                \n",
      "                                                                 \n",
      " max_pooling2d_5 (MaxPooling  (None, 8, 8, 128)        0         \n",
      " 2D)                                                             \n",
      "                                                                 \n",
      " dropout_6 (Dropout)         (None, 8, 8, 128)         0         \n",
      "                                                                 \n",
      " flatten_1 (Flatten)         (None, 8192)              0         \n",
      "                                                                 \n",
      " dense_2 (Dense)             (None, 1024)              8389632   \n",
      "                                                                 \n",
      " activation_12 (Activation)  (None, 1024)              0         \n",
      "                                                                 \n",
      " batch_normalization_11 (Bat  (None, 1024)             4096      \n",
      " chNormalization)                                                \n",
      "                                                                 \n",
      " dropout_7 (Dropout)         (None, 1024)              0         \n",
      "                                                                 \n",
      " dense_3 (Dense)             (None, 15)                15375     \n",
      "                                                                 \n",
      " activation_13 (Activation)  (None, 15)                0         \n",
      "                                                                 \n",
      "=================================================================\n",
      "Total params: 8,688,527\n",
      "Trainable params: 8,685,647\n",
      "Non-trainable params: 2,880\n",
      "_________________________________________________________________\n"
     ]
    }
   ],
   "source": [
    "model.summary()"
   ]
  },
  {
   "cell_type": "code",
   "execution_count": 57,
   "metadata": {},
   "outputs": [
    {
     "name": "stdout",
     "output_type": "stream",
     "text": [
      "[INFO] training network...\n"
     ]
    },
    {
     "name": "stderr",
     "output_type": "stream",
     "text": [
      "C:\\Users\\80965\\anaconda3\\lib\\site-packages\\keras\\optimizer_v2\\adam.py:105: UserWarning: The `lr` argument is deprecated, use `learning_rate` instead.\n",
      "  super(Adam, self).__init__(name, **kwargs)\n"
     ]
    }
   ],
   "source": [
    "opt = Adam(lr=INIT_LR, decay=INIT_LR / EPOCHS)\n",
    "# distribution\n",
    "model.compile(loss=\"binary_crossentropy\", optimizer=opt,metrics=[\"accuracy\"])\n",
    "# train the network\n",
    "print(\"[INFO] training network...\")"
   ]
  },
  {
   "cell_type": "code",
   "execution_count": 58,
   "metadata": {},
   "outputs": [
    {
     "name": "stderr",
     "output_type": "stream",
     "text": [
      "<ipython-input-58-f5a41846f0f2>:1: UserWarning: `Model.fit_generator` is deprecated and will be removed in a future version. Please use `Model.fit`, which supports generators.\n",
      "  history = model.fit_generator(\n"
     ]
    },
    {
     "name": "stdout",
     "output_type": "stream",
     "text": [
      "Epoch 1/35\n",
      "91/91 [==============================] - 57s 598ms/step - loss: 0.6087 - accuracy: 0.2330 - val_loss: 0.3647 - val_accuracy: 0.0739\n",
      "Epoch 2/35\n",
      "91/91 [==============================] - 52s 572ms/step - loss: 0.1949 - accuracy: 0.4863 - val_loss: 0.4379 - val_accuracy: 0.0752\n",
      "Epoch 3/35\n",
      "91/91 [==============================] - 51s 559ms/step - loss: 0.1354 - accuracy: 0.6199 - val_loss: 0.5286 - val_accuracy: 0.0780\n",
      "Epoch 4/35\n",
      "91/91 [==============================] - 51s 554ms/step - loss: 0.1166 - accuracy: 0.6985 - val_loss: 0.5448 - val_accuracy: 0.1368\n",
      "Epoch 5/35\n",
      "91/91 [==============================] - 51s 555ms/step - loss: 0.1035 - accuracy: 0.7459 - val_loss: 0.4357 - val_accuracy: 0.2695\n",
      "Epoch 6/35\n",
      "91/91 [==============================] - 52s 573ms/step - loss: 0.1020 - accuracy: 0.7439 - val_loss: 0.2937 - val_accuracy: 0.4118\n",
      "Epoch 7/35\n",
      "91/91 [==============================] - 51s 562ms/step - loss: 0.0907 - accuracy: 0.7698 - val_loss: 0.3157 - val_accuracy: 0.4350\n",
      "Epoch 8/35\n",
      "91/91 [==============================] - 52s 573ms/step - loss: 0.0813 - accuracy: 0.7937 - val_loss: 0.3546 - val_accuracy: 0.4022\n",
      "Epoch 9/35\n",
      "91/91 [==============================] - 51s 556ms/step - loss: 0.0782 - accuracy: 0.8117 - val_loss: 0.7398 - val_accuracy: 0.2462\n",
      "Epoch 10/35\n",
      "91/91 [==============================] - 51s 563ms/step - loss: 0.0773 - accuracy: 0.8069 - val_loss: 0.3343 - val_accuracy: 0.4419\n",
      "Epoch 11/35\n",
      "91/91 [==============================] - 51s 556ms/step - loss: 0.0711 - accuracy: 0.8252 - val_loss: 0.7013 - val_accuracy: 0.2503\n",
      "Epoch 12/35\n",
      "91/91 [==============================] - 53s 578ms/step - loss: 0.0646 - accuracy: 0.8422 - val_loss: 0.1917 - val_accuracy: 0.6334\n",
      "Epoch 13/35\n",
      "91/91 [==============================] - 51s 558ms/step - loss: 0.0639 - accuracy: 0.8467 - val_loss: 0.3124 - val_accuracy: 0.5048\n",
      "Epoch 14/35\n",
      "91/91 [==============================] - 52s 566ms/step - loss: 0.0603 - accuracy: 0.8602 - val_loss: 0.1803 - val_accuracy: 0.6320\n",
      "Epoch 15/35\n",
      "91/91 [==============================] - 51s 564ms/step - loss: 0.0641 - accuracy: 0.8480 - val_loss: 0.1677 - val_accuracy: 0.6758\n",
      "Epoch 16/35\n",
      "91/91 [==============================] - 51s 557ms/step - loss: 0.0566 - accuracy: 0.8723 - val_loss: 0.4751 - val_accuracy: 0.3748\n",
      "Epoch 17/35\n",
      "91/91 [==============================] - 41s 448ms/step - loss: 0.0541 - accuracy: 0.8757 - val_loss: 0.2652 - val_accuracy: 0.5855\n",
      "Epoch 18/35\n",
      "91/91 [==============================] - 43s 468ms/step - loss: 0.0553 - accuracy: 0.8733 - val_loss: 0.3624 - val_accuracy: 0.4679\n",
      "Epoch 19/35\n",
      "91/91 [==============================] - 41s 452ms/step - loss: 0.0645 - accuracy: 0.8570 - val_loss: 0.4722 - val_accuracy: 0.3283\n",
      "Epoch 20/35\n",
      "91/91 [==============================] - 42s 456ms/step - loss: 0.0616 - accuracy: 0.8591 - val_loss: 0.0893 - val_accuracy: 0.8208\n",
      "Epoch 21/35\n",
      "91/91 [==============================] - 43s 468ms/step - loss: 0.0519 - accuracy: 0.8813 - val_loss: 0.3128 - val_accuracy: 0.5404\n",
      "Epoch 22/35\n",
      "91/91 [==============================] - 41s 451ms/step - loss: 0.0452 - accuracy: 0.8951 - val_loss: 0.1707 - val_accuracy: 0.6648\n",
      "Epoch 23/35\n",
      "91/91 [==============================] - 41s 453ms/step - loss: 0.0410 - accuracy: 0.9152 - val_loss: 0.3160 - val_accuracy: 0.5021\n",
      "Epoch 24/35\n",
      "91/91 [==============================] - 42s 456ms/step - loss: 0.0451 - accuracy: 0.9020 - val_loss: 0.3736 - val_accuracy: 0.6867\n",
      "Epoch 25/35\n",
      "91/91 [==============================] - 42s 465ms/step - loss: 0.0431 - accuracy: 0.9048 - val_loss: 0.1104 - val_accuracy: 0.7456\n",
      "Epoch 26/35\n",
      "91/91 [==============================] - 42s 462ms/step - loss: 0.0551 - accuracy: 0.8809 - val_loss: 0.2548 - val_accuracy: 0.4938\n",
      "Epoch 27/35\n",
      "91/91 [==============================] - 42s 457ms/step - loss: 0.0449 - accuracy: 0.8958 - val_loss: 0.0814 - val_accuracy: 0.8071\n",
      "Epoch 28/35\n",
      "91/91 [==============================] - 42s 461ms/step - loss: 0.0642 - accuracy: 0.8598 - val_loss: 0.4427 - val_accuracy: 0.5253\n",
      "Epoch 29/35\n",
      "91/91 [==============================] - 42s 459ms/step - loss: 0.0607 - accuracy: 0.8702 - val_loss: 0.3901 - val_accuracy: 0.5732\n",
      "Epoch 30/35\n",
      "91/91 [==============================] - 42s 461ms/step - loss: 0.0524 - accuracy: 0.8844 - val_loss: 0.0652 - val_accuracy: 0.8482\n",
      "Epoch 31/35\n",
      "91/91 [==============================] - 42s 456ms/step - loss: 0.0410 - accuracy: 0.9155 - val_loss: 0.1348 - val_accuracy: 0.7975\n",
      "Epoch 32/35\n",
      "91/91 [==============================] - 42s 467ms/step - loss: 0.0374 - accuracy: 0.9218 - val_loss: 0.1272 - val_accuracy: 0.7579\n",
      "Epoch 33/35\n",
      "91/91 [==============================] - 41s 456ms/step - loss: 0.0400 - accuracy: 0.9169 - val_loss: 0.0953 - val_accuracy: 0.7962\n",
      "Epoch 34/35\n",
      "91/91 [==============================] - 43s 470ms/step - loss: 0.0350 - accuracy: 0.9263 - val_loss: 0.1826 - val_accuracy: 0.7442\n",
      "Epoch 35/35\n",
      "91/91 [==============================] - 42s 463ms/step - loss: 0.0323 - accuracy: 0.9377 - val_loss: 0.0908 - val_accuracy: 0.8126\n"
     ]
    }
   ],
   "source": [
    "history = model.fit_generator(\n",
    "    aug.flow(x_train, y_train, batch_size=BS),\n",
    "    validation_data=(x_test, y_test),\n",
    "    steps_per_epoch=len(x_train) // BS,\n",
    "    epochs=EPOCHS, verbose=1\n",
    "    )"
   ]
  },
  {
   "cell_type": "code",
   "execution_count": 26,
   "metadata": {},
   "outputs": [
    {
     "data": {
      "image/png": "[encoded data removed]",
      "text/plain": [
       "<Figure size 432x288 with 1 Axes>"
      ]
     },
     "metadata": {
      "needs_background": "light"
     },
     "output_type": "display_data"
    },
    {
     "data": {
      "image/png": "[encoded data removed]",
      "text/plain": [
       "<Figure size 432x288 with 1 Axes>"
      ]
     },
     "metadata": {
      "needs_background": "light"
     },
     "output_type": "display_data"
    }
   ],
   "source": [
    "acc = history.history['accuracy']\n",
    "val_acc = history.history['val_accuracy']\n",
    "loss = history.history['loss']\n",
    "val_loss = history.history['val_loss']\n",
    "epochs = range(1, len(acc) + 1)\n",
    "#Train and validation accuracy\n",
    "plt.plot(epochs, acc, 'b', label='Training accurarcy')\n",
    "plt.plot(epochs, val_acc, 'r', label='Validation accurarcy')\n",
    "plt.title('Training and Validation accurarcy')\n",
    "plt.legend()\n",
    "\n",
    "plt.figure()\n",
    "#Train and validation loss\n",
    "plt.plot(epochs, loss, 'b', label='Training loss')\n",
    "plt.plot(epochs, val_loss, 'r', label='Validation loss')\n",
    "plt.title('Training and Validation loss')\n",
    "plt.legend()\n",
    "plt.show()"
   ]
  },
  {
   "cell_type": "code",
   "execution_count": 59,
   "metadata": {},
   "outputs": [
    {
     "name": "stdout",
     "output_type": "stream",
     "text": [
      "[INFO] Calculating model accuracy\n",
      "23/23 [==============================] - 2s 85ms/step - loss: 0.0908 - accuracy: 0.8126\n",
      "Test Accuracy: 81.25854730606079\n"
     ]
    }
   ],
   "source": [
    "print(\"[INFO] Calculating model accuracy\")\n",
    "scores = model.evaluate(x_test, y_test)\n",
    "print(f\"Test Accuracy: {scores[1]*100}\")"
   ]
  },
  {
   "cell_type": "code",
   "execution_count": 60,
   "metadata": {},
   "outputs": [],
   "source": [
    "# Save the model using TensorFlow SavedModel format\n",
    "model.save('git_model.h5')"
   ]
  },
  {
   "cell_type": "code",
   "execution_count": 61,
   "metadata": {},
   "outputs": [
    {
     "name": "stdout",
     "output_type": "stream",
     "text": [
      "92/92 [==============================] - 8s 86ms/step - loss: 0.0848 - accuracy: 0.8295\n",
      "Test Accuracy: 82.95104503631592\n"
     ]
    }
   ],
   "source": [
    "scores = model.evaluate(x_train, y_train)\n",
    "print(f\"Test Accuracy: {scores[1]*100}\")"
   ]
  },
  {
   "cell_type": "code",
   "execution_count": null,
   "metadata": {},
   "outputs": [],
   "source": []
  },
  {
   "cell_type": "code",
   "execution_count": null,
   "metadata": {},
   "outputs": [],
   "source": []
  },
  {
   "cell_type": "code",
   "execution_count": null,
   "metadata": {},
   "outputs": [],
   "source": []
  },
  {
   "cell_type": "code",
   "execution_count": null,
   "metadata": {},
   "outputs": [],
   "source": []
  },
  {
   "cell_type": "code",
   "execution_count": null,
   "metadata": {},
   "outputs": [],
   "source": []
  },
  {
   "cell_type": "code",
   "execution_count": null,
   "metadata": {},
   "outputs": [],
   "source": []
  },
  {
   "cell_type": "code",
   "execution_count": null,
   "metadata": {},
   "outputs": [],
   "source": []
  },
  {
   "cell_type": "code",
   "execution_count": null,
   "metadata": {},
   "outputs": [],
   "source": []
  },
  {
   "cell_type": "code",
   "execution_count": 137,
   "metadata": {},
   "outputs": [
    {
     "name": "stdout",
     "output_type": "stream",
     "text": [
      "[INFO] Saving model...\n",
      "INFO:tensorflow:Assets written to: ram://5d85a905-0a9f-4247-8d0f-0ba59bbb9cc8/assets\n"
     ]
    }
   ],
   "source": [
    "print(\"[INFO] Saving model...\")\n",
    "model.save(\"final_model.h5\")\n",
    "pickle.dump(model,open('cnn_model.pkl', 'wb'))"
   ]
  },
  {
   "cell_type": "code",
   "execution_count": 36,
   "metadata": {},
   "outputs": [],
   "source": [
    " from keras.models import load_model\n",
    "model_final = load_model('cnn_model.h5')\n"
   ]
  },
  {
   "cell_type": "code",
   "execution_count": null,
   "metadata": {},
   "outputs": [],
   "source": []
  },
  {
   "cell_type": "code",
   "execution_count": 40,
   "metadata": {},
   "outputs": [],
   "source": [
    "image_dir=r\"C:\\Users\\80965\\Downloads\\PlantVillage\\Tomato__Tomato_YellowLeaf__Curl_Virus\\96ed7022-a152-4f1d-b934-dca1949159d2___UF.GRC_YLCV_Lab 02183.JPG\"\n",
    "im=convert_image_to_array(image_dir)\n",
    "np_image_li = np.array(im, dtype=np.float16) / 225.0\n",
    "npp_image = np.expand_dims(np_image_li, axis=0)"
   ]
  },
  {
   "cell_type": "code",
   "execution_count": 41,
   "metadata": {},
   "outputs": [
    {
     "data": {
      "text/plain": [
       "array([[[140., 141., 139.],\n",
       "        [140., 141., 139.],\n",
       "        [139., 140., 138.],\n",
       "        ...,\n",
       "        [128., 128., 128.],\n",
       "        [127., 127., 127.],\n",
       "        [126., 126., 126.]],\n",
       "\n",
       "       [[137., 138., 136.],\n",
       "        [137., 138., 136.],\n",
       "        [136., 137., 135.],\n",
       "        ...,\n",
       "        [129., 129., 129.],\n",
       "        [128., 128., 128.],\n",
       "        [127., 127., 127.]],\n",
       "\n",
       "       [[134., 135., 133.],\n",
       "        [134., 135., 133.],\n",
       "        [134., 135., 133.],\n",
       "        ...,\n",
       "        [131., 131., 131.],\n",
       "        [130., 130., 130.],\n",
       "        [129., 129., 129.]],\n",
       "\n",
       "       ...,\n",
       "\n",
       "       [[122., 120., 119.],\n",
       "        [123., 121., 120.],\n",
       "        [125., 123., 122.],\n",
       "        ...,\n",
       "        [109., 109., 109.],\n",
       "        [110., 110., 110.],\n",
       "        [110., 110., 110.]],\n",
       "\n",
       "       [[120., 118., 117.],\n",
       "        [120., 118., 117.],\n",
       "        [121., 119., 118.],\n",
       "        ...,\n",
       "        [106., 106., 106.],\n",
       "        [108., 108., 108.],\n",
       "        [109., 109., 109.]],\n",
       "\n",
       "       [[120., 118., 117.],\n",
       "        [118., 116., 115.],\n",
       "        [118., 116., 115.],\n",
       "        ...,\n",
       "        [105., 105., 105.],\n",
       "        [106., 106., 106.],\n",
       "        [108., 108., 108.]]], dtype=float32)"
      ]
     },
     "execution_count": 41,
     "metadata": {},
     "output_type": "execute_result"
    }
   ],
   "source": [
    "im"
   ]
  },
  {
   "cell_type": "code",
   "execution_count": 38,
   "metadata": {},
   "outputs": [
    {
     "name": "stdout",
     "output_type": "stream",
     "text": [
      "[[4.5281073e-08 4.3489132e-07 9.1634735e-09 2.1963360e-06 1.5854572e-07\n",
      "  4.2083597e-05 1.1488897e-07 2.7807710e-05 1.1452081e-08 7.1909197e-04\n",
      "  2.8886086e-07 9.8861463e-08 9.9920768e-01 4.9540954e-08 3.5693628e-08]]\n"
     ]
    }
   ],
   "source": [
    "result=model_final.predict(npp_image)\n",
    "\n",
    "print(result)"
   ]
  },
  {
   "cell_type": "code",
   "execution_count": 39,
   "metadata": {},
   "outputs": [
    {
     "name": "stdout",
     "output_type": "stream",
     "text": [
      "probability:0.9992077\n",
      "Tomato__Tomato_YellowLeaf__Curl_Virus\n"
     ]
    }
   ],
   "source": [
    "itemindex = np.where(result==np.max(result))\n",
    "print(\"probability:\"+str(np.max(result))+\"\\n\"+label_binarizer.classes_[itemindex[1][0]])"
   ]
  },
  {
   "cell_type": "code",
   "execution_count": null,
   "metadata": {},
   "outputs": [],
   "source": []
  },
  {
   "cell_type": "code",
   "execution_count": null,
   "metadata": {},
   "outputs": [],
   "source": []
  },
  {
   "cell_type": "code",
   "execution_count": null,
   "metadata": {},
   "outputs": [],
   "source": []
  },
  {
   "cell_type": "code",
   "execution_count": null,
   "metadata": {},
   "outputs": [],
   "source": []
  }
 ],
 "metadata": {
  "kernelspec": {
   "display_name": "Python 3",
   "language": "python",
   "name": "python3"
  },
  "language_info": {
   "codemirror_mode": {
    "name": "ipython",
    "version": 3
   },
   "file_extension": ".py",
   "mimetype": "text/x-python",
   "name": "python",
   "nbconvert_exporter": "python",
   "pygments_lexer": "ipython3",
   "version": "3.8.3"
  }
 },
 "nbformat": 4,
 "nbformat_minor": 4
}
